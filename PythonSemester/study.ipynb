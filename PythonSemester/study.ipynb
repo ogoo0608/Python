{
 "cells": [
  {
   "cell_type": "markdown",
   "metadata": {},
   "source": [
    "리스트는 검색이 불편함. 그래서 맵을 사용함 !! 파이썬에서 Map ==> 딕셔너리 ..\n",
    "\n",
    "맵 ==> 원소의 타입이 같지 않아도 됨. 객체형임. \n",
    "\n",
    "리스트의 첫 번째 원소가 맵일수도 있음 !! 그러나 가급적이면 동일하게 원소를 설정하는게 유리함."
   ]
  },
  {
   "cell_type": "markdown",
   "metadata": {},
   "source": [
    "교재 정리 !! ==> 리스트 튜플 딕셔너리 세트\n",
    "\n",
    "리스트를 생성할 때는 대괄호를 사용함.\n",
    "\n",
    "리스트의 다양한 형태\n",
    "\n",
    "- 비어있는 리스트 생성\n",
    "- 정수로만 구성된 르스트\n",
    "- 문자열로만 구성된 리스트\n",
    "- 다양한 데이터 형식을 섞은 리스트 ==> 자주 사용하지 않으므로 참고한 해라. because 나중에 데이터를 불러와서 처리할 때 복잡해지기 때문..\n",
    "\n",
    "빈 리스트와 리스트의 추가 사용\n",
    "\n",
    "리스트이름.append(값) 함수로 리스트를 하나씩 추가할 수 있다."
   ]
  },
  {
   "cell_type": "code",
   "execution_count": null,
   "metadata": {},
   "outputs": [],
   "source": [
    "numList = []\n",
    "for i in range(0, 4):\n",
    "    numList.append(0)\n",
    "hap = 0\n",
    "\n",
    "for i in range(0, 4):\n",
    "    numList[i] = int(input(\"숫자 : \"))\n",
    "    \n",
    "hap = numList[0] + numList[1] + numList[2] + numList[3]\n",
    "\n",
    "print(\"합계 ==> \", hap) # sum을 이용하는게.."
   ]
  },
  {
   "cell_type": "markdown",
   "metadata": {},
   "source": [
    "리스트는 값을 수정할 수 없음. 고정 되어 있음\n",
    "\n",
    "리스트 값에 접근하기\n",
    "\n",
    "리스트에 접근할 때 클론을 사용해서 범위를 지정할 수도 있음. // 리스트이름[시작:끝+1]\n",
    "\n",
    "인덱스 오류 ==> 초기화되지 않은 위치의 데이터에 접급할 때 발생하는 문제\n",
    "\n",
    "append : 맨 뒤에 값 추가하기\n",
    "\n",
    "insert : 정해진 위치에 값 삽입하기\n",
    "\n",
    "del() : 리스트의 항목 삭제\n",
    "\n",
    "del() 함수에 리스트 이름을 넣으면 리스트가 통째로 삭제됨 !!\n",
    "\n",
    "del() 보다 remove(지울 값) 이 더 권장됨..\n",
    "\n",
    "remove(지울 값) : 리스트에서 특정 값 삭제\n",
    "\n",
    "ex)\n",
    "\n",
    "```py\n",
    ">>> numList = [10, 20, 30]\n",
    ">>> numList.remove(10)\n",
    ">>> print(numList)\n",
    "[실행 결과]\n",
    "[20,30]\n",
    "```\n",
    "\n",
    "pop() : 제일 뒤의 값을 뽑아내서 값을 알려준 뒤 삭제함\n",
    "\n",
    "count(찾을 값) : 찾을 값이 몇 개인지 개수를 세서 알려줌\n",
    "\n",
    "sort() : 리스트의 값을 정렬함.. \n",
    "\n",
    "reverse() : 리스트의 마지막 인덱스부터 위치가 반대로 됨\n",
    "\n",
    "copy() : 리스트를 새로운 리스트로 복사함"
   ]
  },
  {
   "cell_type": "markdown",
   "metadata": {},
   "source": [
    "2차원 리스트\n",
    "\n",
    "- 1차원 리스트를 여러 개 연결한 리스트\n",
    "- 2개의 첨자를 사용함\n",
    "    - 리스트이름[행][열]\n",
    "\n",
    "for문을 활용한 2차원 리스트 출력 ==> 중첩 for문 사용 - 중요함 [코드 7-4] 참고"
   ]
  },
  {
   "cell_type": "code",
   "execution_count": 5,
   "metadata": {},
   "outputs": [
    {
     "name": "stdout",
     "output_type": "stream",
     "text": [
      "  1  2  3  4\n",
      "  5  6  7  8\n",
      "  9  10  11  12\n"
     ]
    }
   ],
   "source": [
    "# [코드 7-4]\n",
    "\n",
    "numList2 = [[1,2,3,4],\n",
    "            [5,6,7,8],\n",
    "            [9,10,11,12]]\n",
    "\n",
    "for i in range(0,3) :\n",
    "    for k in range(0,4) : \n",
    "        print(\" \", numList2[i][k], end='')\n",
    "    print(\"\")"
   ]
  },
  {
   "cell_type": "markdown",
   "metadata": {},
   "source": [
    "튜플 !!\n",
    "\n"
   ]
  }
 ],
 "metadata": {
  "interpreter": {
   "hash": "c4b3c3e98a20b3c6a423053c9f6cd0fafb29c4bcae530d4e51dfcfc7e95de538"
  },
  "kernelspec": {
   "display_name": "Python 3.9.9 64-bit (windows store)",
   "language": "python",
   "name": "python3"
  },
  "language_info": {
   "codemirror_mode": {
    "name": "ipython",
    "version": 3
   },
   "file_extension": ".py",
   "mimetype": "text/x-python",
   "name": "python",
   "nbconvert_exporter": "python",
   "pygments_lexer": "ipython3",
   "version": "3.9.9"
  },
  "orig_nbformat": 4
 },
 "nbformat": 4,
 "nbformat_minor": 2
}

<br>

{
 "cells": [
  {
   "cell_type": "markdown",
   "metadata": {},
   "source": [
    "튜플은 리스트와 다르게 소괄호로 만들며\n",
    "\n",
    "값을 읽을 수만 있고 수정할 수는 없음."
   ]
  },
  {
   "cell_type": "markdown",
   "metadata": {},
   "source": [
    "딕셔너리\n",
    "- 단어 의미 그대로 영어사전과 같은 구조를 가짐\n",
    "- 딕셔너리는 중괄호로 묶여 있음\n",
    "- 키 (Key) 와 값 (Value) 의 쌍으로 이루어짐\n",
    "\n",
    "딕셔너리변수 = {키1:값1, 키2:값2, ....}\n",
    "\n",
    "키와 값을 반대로 생성해도 무방함 !\n",
    "\n",
    "즉, 키와 값을 사용자가 지정하는 것이지 어떤 값을 반드시 사용해야 하는 규정은 없으며, 딕셔너리는 순서가 없음"
   ]
  },
  {
   "cell_type": "markdown",
   "metadata": {},
   "source": [
    "딕셔너리는 여러 개의 정보를 하나의 변수로 표현할 때 유용하게 사용됨 ..\n",
    "\n",
    "**테이블의 구조 == 딕셔너리의 구조** !! "
   ]
  },
  {
   "cell_type": "markdown",
   "metadata": {},
   "source": [
    "딕셔너리에 정보를 더 추가하기\n",
    "- 정보를 추가할 때는 키와 값을 쌍으로 추가해야 함\n",
    "- '딕셔너리이름[키] = 값' 형식을 사용함\n",
    "\n",
    "딕셔너리의 키는 중복되지 않고 유일해야 함.. !!"
   ]
  },
  {
   "cell_type": "markdown",
   "metadata": {},
   "source": [
    "딕셔너리와 관련된 유용한 함수\n",
    "- 딕셔너리이름.keys() : 딕셔너리의 모든 키만 뽑아서 반환함\n",
    "\n",
    "```py\n",
    ">>> empDict.keys()\n",
    "dict_keys(['사번', '이름', '부서'])\n",
    "```\n",
    "\n",
    "list(딕셔너리이름.keys()) : 출력 결과에 dict_keys 가 붙지 않음 !\n",
    "\n",
    "```py\n",
    ">>> list(empDict.keys())\n",
    "(['사번', '이름', '부서'])\n",
    "```"
   ]
  },
  {
   "cell_type": "markdown",
   "metadata": {},
   "source": [
    "딕셔너리이름.values() : 딕셔너리의 모든 값을 리슽트로 만들어서 반환\n",
    "\n",
    "딕셔너리이름.items() : 튜플 형태로도 구할 수 있음 !!\n",
    "\n",
    "딕셔너리 안에 키가 있는지는 in을 사용하면 확인이 가능함.\n",
    "\n",
    "in 은 if문과 함께 사용되는 경우가 많다.\n",
    "\n",
    "ex) \n",
    "\n",
    "```py\n",
    ">>> '이름' in empDict\n",
    "True\n",
    "```\n",
    "```py\n",
    ">>> '주소' in empDict\n",
    "False\n",
    "```"
   ]
  },
  {
   "cell_type": "markdown",
   "metadata": {},
   "source": [
    "딕셔너리에 저장된 것을 한 건씩 출력하려면 다음과 같이 for문과 함께 사용하면 됨..\n",
    "\n",
    "```py\n",
    ">>> for key in empDict.keys() :\n",
    "        print( key, empDict[key])\n",
    "```\n",
    "\n",
    "empDict.keys() 는 전체 키의 목록을 반환하므로 위 코드는 다음과 같이 변형될 수 있다.\n",
    "\n",
    "```py\n",
    ">>> for key in ['사변, '이름', '부서'] : \n",
    "        print( key, empDict[key])\n",
    "```\n",
    "\n",
    "<mark style='background-color: yeloow'> for key in 리스트 </mark> 구문은 리스트에 있는 것을 하나씩 추출해서 key에 넣고 반복문을 실행하므로 같은 결과가 나옴 ..\n",
    "\n"
   ]
  },
  {
   "cell_type": "markdown",
   "metadata": {},
   "source": [
    "딕셔너리 핵심 코드 !!!"
   ]
  }
 ],
 "metadata": {
  "language_info": {
   "name": "python"
  },
  "orig_nbformat": 4
 },
 "nbformat": 4,
 "nbformat_minor": 2
}
